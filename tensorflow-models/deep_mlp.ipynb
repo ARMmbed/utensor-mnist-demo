{
 "cells": [
  {
   "cell_type": "code",
   "execution_count": 1,
   "metadata": {
    "collapsed": true
   },
   "outputs": [],
   "source": [
    "# This script is based on:\n",
    "# https://www.tensorflow.org/get_started/mnist/pros\n",
    "\n",
    "import sys\n",
    "import tensorflow as tf\n",
    "from tensorflow.examples.tutorials.mnist import input_data\n",
    "from tensorflow.python.framework import graph_util as gu\n",
    "from tensorflow.python.framework.graph_util import remove_training_nodes\n",
    "from tensorflow.tools.graph_transforms import TransformGraph"
   ]
  },
  {
   "cell_type": "markdown",
   "metadata": {},
   "source": [
    "# Import training data"
   ]
  },
  {
   "cell_type": "code",
   "execution_count": 2,
   "metadata": {},
   "outputs": [
    {
     "name": "stdout",
     "output_type": "stream",
     "text": [
      "Extracting MNIST_data/train-images-idx3-ubyte.gz\n",
      "Extracting MNIST_data/train-labels-idx1-ubyte.gz\n",
      "Extracting MNIST_data/t10k-images-idx3-ubyte.gz\n",
      "Extracting MNIST_data/t10k-labels-idx1-ubyte.gz\n"
     ]
    }
   ],
   "source": [
    "mnist = input_data.read_data_sets(\"MNIST_data/\", one_hot=True)"
   ]
  },
  {
   "cell_type": "markdown",
   "metadata": {},
   "source": [
    "# Define Tensorflow Model"
   ]
  },
  {
   "cell_type": "markdown",
   "metadata": {},
   "source": [
    "### Fully connected 2 layer NN"
   ]
  },
  {
   "cell_type": "code",
   "execution_count": 3,
   "metadata": {
    "collapsed": true
   },
   "outputs": [],
   "source": [
    "def deepnn(x):\n",
    "  with tf.name_scope(\"Layer1\"):\n",
    "    W_fc1 = weight_variable([784, 128], name='W_fc1')\n",
    "    b_fc1 = bias_variable([128], name='b_fc1')\n",
    "    a_fc1 = tf.add(tf.matmul(x, W_fc1), b_fc1, name=\"zscore\")\n",
    "    h_fc1 = tf.nn.relu(a_fc1)\n",
    "\n",
    "  with tf.name_scope(\"Layer2\"):\n",
    "    W_fc2 = weight_variable([128, 64], name='W_fc2')\n",
    "    b_fc2 = bias_variable([64], name='b_fc2')\n",
    "    a_fc2 = tf.add(tf.matmul(h_fc1, W_fc2), b_fc2, name=\"zscore\")\n",
    "    h_fc2 = tf.nn.relu(a_fc2)\n",
    "  \n",
    "  with tf.name_scope(\"OuputLayer\"):\n",
    "    W_fc3 = weight_variable([64, 10], name='W_fc3')\n",
    "    b_fc3 = bias_variable([10], name='b_fc3')\n",
    "    y_pred = tf.add(tf.matmul(h_fc2, W_fc3), b_fc3, name=\"prediction\")\n",
    "\n",
    "  return y_pred\n",
    "\n",
    "\n",
    "def weight_variable(shape, name):\n",
    "  \"\"\"weight_variable generates a weight variable of a given shape.\"\"\"\n",
    "  initial = tf.truncated_normal(shape, stddev=0.1)\n",
    "  return tf.Variable(initial, name)\n",
    "\n",
    "\n",
    "def bias_variable(shape, name):\n",
    "  \"\"\"bias_variable generates a bias variable of a given shape.\"\"\"\n",
    "  initial = tf.constant(0.1, shape=shape)\n",
    "  return tf.Variable(initial, name)"
   ]
  },
  {
   "cell_type": "markdown",
   "metadata": {},
   "source": [
    "### Specify inputs, outputs, and a cost function"
   ]
  },
  {
   "cell_type": "code",
   "execution_count": 4,
   "metadata": {
    "collapsed": true
   },
   "outputs": [],
   "source": [
    "# Create the model\n",
    "x = tf.placeholder(tf.float32, [None, 784], name=\"x\")\n",
    "\n",
    "# Define loss and optimizer\n",
    "y_ = tf.placeholder(tf.float32, [None, 10], name=\"y\")\n",
    "\n",
    "# Build the graph for the deep net\n",
    "y_pred = deepnn(x)\n",
    "\n",
    "with tf.name_scope(\"Loss\"):\n",
    "    cross_entropy = tf.nn.softmax_cross_entropy_with_logits(labels=y_, \n",
    "                                                            logits=y_pred)\n",
    "    loss = tf.reduce_mean(cross_entropy, name=\"cross_entropy_loss\")\n",
    "train_step = tf.train.AdamOptimizer(1e-4).minimize(loss, name=\"train_step\")\n",
    "  \n",
    "with tf.name_scope(\"Prediction\"): \n",
    "    correct_prediction = tf.equal(tf.argmax(y_pred, 1, name='y_pred'), \n",
    "                                  tf.argmax(y_, 1))\n",
    "    accuracy = tf.reduce_mean(tf.cast(correct_prediction, tf.float32), name=\"accuracy\")"
   ]
  },
  {
   "cell_type": "markdown",
   "metadata": {},
   "source": [
    "# Configure Tensorflow Session"
   ]
  },
  {
   "cell_type": "code",
   "execution_count": 5,
   "metadata": {
    "collapsed": true
   },
   "outputs": [],
   "source": [
    "# Initialize the variables (i.e. assign their default value)\n",
    "init = tf.global_variables_initializer()\n",
    "\n",
    "saver = tf.train.Saver()\n",
    "\n",
    "# Start training\n",
    "sess = tf.Session()\n",
    "sess.run(init)"
   ]
  },
  {
   "cell_type": "markdown",
   "metadata": {},
   "source": [
    "# Train the model"
   ]
  },
  {
   "cell_type": "code",
   "execution_count": 6,
   "metadata": {},
   "outputs": [
    {
     "name": "stdout",
     "output_type": "stream",
     "text": [
      "step 0, training accuracy 0.06\n",
      "step 100, training accuracy 0.48\n",
      "step 200, training accuracy 0.54\n",
      "step 300, training accuracy 0.82\n",
      "step 400, training accuracy 0.88\n",
      "step 500, training accuracy 0.88\n",
      "step 600, training accuracy 0.86\n",
      "step 700, training accuracy 0.94\n",
      "step 800, training accuracy 0.88\n",
      "step 900, training accuracy 0.9\n",
      "step 1000, training accuracy 0.88\n",
      "step 1100, training accuracy 0.9\n",
      "step 1200, training accuracy 0.94\n",
      "step 1300, training accuracy 0.86\n",
      "step 1400, training accuracy 0.92\n",
      "step 1500, training accuracy 0.92\n",
      "step 1600, training accuracy 0.92\n",
      "step 1700, training accuracy 0.92\n",
      "step 1800, training accuracy 0.84\n",
      "step 1900, training accuracy 0.92\n",
      "step 2000, training accuracy 0.96\n",
      "step 2100, training accuracy 0.94\n",
      "step 2200, training accuracy 0.94\n",
      "step 2300, training accuracy 0.94\n",
      "step 2400, training accuracy 0.94\n",
      "step 2500, training accuracy 0.94\n",
      "step 2600, training accuracy 0.94\n",
      "step 2700, training accuracy 0.94\n",
      "step 2800, training accuracy 0.9\n",
      "step 2900, training accuracy 0.92\n",
      "step 3000, training accuracy 0.92\n",
      "step 3100, training accuracy 0.96\n",
      "step 3200, training accuracy 0.94\n",
      "step 3300, training accuracy 0.94\n",
      "step 3400, training accuracy 1\n",
      "step 3500, training accuracy 0.96\n",
      "step 3600, training accuracy 0.92\n",
      "step 3700, training accuracy 0.96\n",
      "step 3800, training accuracy 0.9\n",
      "step 3900, training accuracy 1\n",
      "step 4000, training accuracy 0.9\n",
      "step 4100, training accuracy 0.96\n",
      "step 4200, training accuracy 0.98\n",
      "step 4300, training accuracy 0.94\n",
      "step 4400, training accuracy 0.98\n",
      "step 4500, training accuracy 0.94\n",
      "step 4600, training accuracy 0.96\n",
      "step 4700, training accuracy 0.96\n",
      "step 4800, training accuracy 0.92\n",
      "step 4900, training accuracy 0.98\n",
      "step 5000, training accuracy 0.92\n",
      "step 5100, training accuracy 0.98\n",
      "step 5200, training accuracy 0.98\n",
      "step 5300, training accuracy 0.98\n",
      "step 5400, training accuracy 0.96\n",
      "step 5500, training accuracy 0.88\n",
      "step 5600, training accuracy 0.96\n",
      "step 5700, training accuracy 0.98\n",
      "step 5800, training accuracy 0.96\n",
      "step 5900, training accuracy 0.96\n",
      "step 6000, training accuracy 0.94\n",
      "step 6100, training accuracy 0.94\n",
      "step 6200, training accuracy 0.94\n",
      "step 6300, training accuracy 0.96\n",
      "step 6400, training accuracy 0.98\n",
      "step 6500, training accuracy 0.94\n",
      "step 6600, training accuracy 0.98\n",
      "step 6700, training accuracy 0.96\n",
      "step 6800, training accuracy 0.94\n",
      "step 6900, training accuracy 0.94\n",
      "step 7000, training accuracy 0.94\n",
      "step 7100, training accuracy 0.98\n",
      "step 7200, training accuracy 0.94\n",
      "step 7300, training accuracy 0.94\n",
      "step 7400, training accuracy 0.98\n",
      "step 7500, training accuracy 0.96\n",
      "step 7600, training accuracy 0.92\n",
      "step 7700, training accuracy 0.96\n",
      "step 7800, training accuracy 1\n",
      "step 7900, training accuracy 0.94\n",
      "step 8000, training accuracy 1\n",
      "step 8100, training accuracy 0.96\n",
      "step 8200, training accuracy 0.94\n",
      "step 8300, training accuracy 0.92\n",
      "step 8400, training accuracy 0.98\n",
      "step 8500, training accuracy 0.92\n",
      "step 8600, training accuracy 0.96\n",
      "step 8700, training accuracy 0.98\n",
      "step 8800, training accuracy 0.88\n",
      "step 8900, training accuracy 0.96\n",
      "step 9000, training accuracy 0.86\n",
      "step 9100, training accuracy 0.94\n",
      "step 9200, training accuracy 0.94\n",
      "step 9300, training accuracy 0.96\n",
      "step 9400, training accuracy 0.98\n",
      "step 9500, training accuracy 0.98\n",
      "step 9600, training accuracy 0.96\n",
      "step 9700, training accuracy 0.98\n",
      "step 9800, training accuracy 0.98\n",
      "step 9900, training accuracy 0.96\n",
      "step 10000, training accuracy 0.96\n",
      "step 10100, training accuracy 1\n",
      "step 10200, training accuracy 0.96\n",
      "step 10300, training accuracy 0.94\n",
      "step 10400, training accuracy 0.98\n",
      "step 10500, training accuracy 0.98\n",
      "step 10600, training accuracy 1\n",
      "step 10700, training accuracy 0.96\n",
      "step 10800, training accuracy 0.98\n",
      "step 10900, training accuracy 1\n",
      "step 11000, training accuracy 0.98\n",
      "step 11100, training accuracy 0.98\n",
      "step 11200, training accuracy 0.98\n",
      "step 11300, training accuracy 0.98\n",
      "step 11400, training accuracy 0.94\n",
      "step 11500, training accuracy 0.94\n",
      "step 11600, training accuracy 0.94\n",
      "step 11700, training accuracy 0.94\n",
      "step 11800, training accuracy 0.96\n",
      "step 11900, training accuracy 0.96\n",
      "step 12000, training accuracy 0.96\n",
      "step 12100, training accuracy 0.96\n",
      "step 12200, training accuracy 0.96\n",
      "step 12300, training accuracy 0.96\n",
      "step 12400, training accuracy 0.94\n",
      "step 12500, training accuracy 0.94\n",
      "step 12600, training accuracy 1\n",
      "step 12700, training accuracy 0.98\n",
      "step 12800, training accuracy 0.98\n",
      "step 12900, training accuracy 1\n",
      "step 13000, training accuracy 0.94\n",
      "step 13100, training accuracy 1\n",
      "step 13200, training accuracy 0.94\n",
      "step 13300, training accuracy 0.96\n",
      "step 13400, training accuracy 0.98\n",
      "step 13500, training accuracy 0.98\n",
      "step 13600, training accuracy 0.98\n",
      "step 13700, training accuracy 0.94\n",
      "step 13800, training accuracy 0.96\n",
      "step 13900, training accuracy 0.98\n",
      "step 14000, training accuracy 0.98\n",
      "step 14100, training accuracy 0.98\n",
      "step 14200, training accuracy 1\n",
      "step 14300, training accuracy 0.96\n",
      "step 14400, training accuracy 0.98\n",
      "step 14500, training accuracy 0.98\n",
      "step 14600, training accuracy 1\n",
      "step 14700, training accuracy 0.98\n",
      "step 14800, training accuracy 1\n",
      "step 14900, training accuracy 0.96\n",
      "step 15000, training accuracy 0.94\n",
      "step 15100, training accuracy 0.98\n",
      "step 15200, training accuracy 0.9\n",
      "step 15300, training accuracy 0.94\n",
      "step 15400, training accuracy 0.98\n",
      "step 15500, training accuracy 1\n",
      "step 15600, training accuracy 0.96\n",
      "step 15700, training accuracy 0.98\n",
      "step 15800, training accuracy 1\n",
      "step 15900, training accuracy 0.96\n",
      "step 16000, training accuracy 0.96\n",
      "step 16100, training accuracy 0.94\n",
      "step 16200, training accuracy 0.98\n",
      "step 16300, training accuracy 1\n",
      "step 16400, training accuracy 1\n",
      "step 16500, training accuracy 1\n",
      "step 16600, training accuracy 0.96\n",
      "step 16700, training accuracy 0.96\n",
      "step 16800, training accuracy 1\n",
      "step 16900, training accuracy 0.98\n",
      "step 17000, training accuracy 0.98\n",
      "step 17100, training accuracy 0.96\n",
      "step 17200, training accuracy 0.98\n",
      "step 17300, training accuracy 0.94\n",
      "step 17400, training accuracy 1\n",
      "step 17500, training accuracy 0.98\n",
      "step 17600, training accuracy 1\n",
      "step 17700, training accuracy 0.94\n",
      "step 17800, training accuracy 0.98\n",
      "step 17900, training accuracy 0.98\n",
      "step 18000, training accuracy 1\n",
      "step 18100, training accuracy 0.96\n",
      "step 18200, training accuracy 0.96\n",
      "step 18300, training accuracy 1\n",
      "step 18400, training accuracy 0.96\n",
      "step 18500, training accuracy 0.96\n",
      "step 18600, training accuracy 0.98\n",
      "step 18700, training accuracy 1\n",
      "step 18800, training accuracy 0.98\n",
      "step 18900, training accuracy 0.96\n",
      "step 19000, training accuracy 0.96\n",
      "step 19100, training accuracy 0.94\n",
      "step 19200, training accuracy 0.96\n",
      "step 19300, training accuracy 1\n",
      "step 19400, training accuracy 1\n",
      "step 19500, training accuracy 1\n",
      "step 19600, training accuracy 0.98\n",
      "step 19700, training accuracy 1\n",
      "step 19800, training accuracy 0.96\n",
      "step 19900, training accuracy 0.96\n"
     ]
    }
   ],
   "source": [
    "for i in range(20000):\n",
    "  batch = mnist.train.next_batch(50)\n",
    "  if i % 100 == 0:\n",
    "    train_accuracy = sess.run(accuracy, feed_dict={\n",
    "        x: batch[0], y_: batch[1]})\n",
    "    print('step %d, training accuracy %g' % (i, train_accuracy))\n",
    "  sess.run(train_step, feed_dict={x: batch[0], y_: batch[1]})"
   ]
  },
  {
   "cell_type": "markdown",
   "metadata": {},
   "source": [
    "## What is the final accuracy"
   ]
  },
  {
   "cell_type": "code",
   "execution_count": 7,
   "metadata": {},
   "outputs": [
    {
     "name": "stdout",
     "output_type": "stream",
     "text": [
      "test accuracy 0.9712\n"
     ]
    }
   ],
   "source": [
    "print('test accuracy %g' % sess.run(accuracy, feed_dict={\n",
    "    x: mnist.test.images, y_: mnist.test.labels}))"
   ]
  },
  {
   "cell_type": "markdown",
   "metadata": {},
   "source": [
    "# Freeze the graph"
   ]
  },
  {
   "cell_type": "code",
   "execution_count": 8,
   "metadata": {
    "collapsed": true
   },
   "outputs": [],
   "source": [
    "saver.save(sess, \"./my-model/model.ckpt\")\n",
    "out_nodes = [y_pred.op.name, y_.op.name, cross_entropy.op.name,\n",
    "             correct_prediction.op.name, accuracy.op.name]"
   ]
  },
  {
   "cell_type": "markdown",
   "metadata": {},
   "source": [
    "### Freeze Constants"
   ]
  },
  {
   "cell_type": "code",
   "execution_count": 9,
   "metadata": {},
   "outputs": [
    {
     "name": "stdout",
     "output_type": "stream",
     "text": [
      "INFO:tensorflow:Froze 6 variables.\n",
      "Converted 6 variables to const ops.\n"
     ]
    }
   ],
   "source": [
    "sub_graph_def = gu.convert_variables_to_constants(sess, sess.graph_def, out_nodes)"
   ]
  },
  {
   "cell_type": "markdown",
   "metadata": {},
   "source": [
    "### Remove unnecessary training nodes"
   ]
  },
  {
   "cell_type": "code",
   "execution_count": 10,
   "metadata": {
    "collapsed": true
   },
   "outputs": [],
   "source": [
    "sub_graph_def = remove_training_nodes(sub_graph_def)"
   ]
  },
  {
   "cell_type": "markdown",
   "metadata": {},
   "source": [
    "### Quantize the graph"
   ]
  },
  {
   "cell_type": "code",
   "execution_count": 11,
   "metadata": {
    "collapsed": true
   },
   "outputs": [],
   "source": [
    "transformed_graph_def = TransformGraph(sub_graph_def, [],\n",
    "                                           [\"Prediction/y_pred\"], [\"quantize_weights\", \"quantize_nodes\"])"
   ]
  },
  {
   "cell_type": "markdown",
   "metadata": {},
   "source": [
    "### Save the graph to PB file"
   ]
  },
  {
   "cell_type": "code",
   "execution_count": 12,
   "metadata": {},
   "outputs": [
    {
     "name": "stdout",
     "output_type": "stream",
     "text": [
      "written graph to: ./my-model/deep_mlp.pb\n"
     ]
    }
   ],
   "source": [
    "graph_path = tf.train.write_graph(transformed_graph_def,\n",
    "                                  \"./my-model\", \"deep_mlp.pb\",\n",
    "                                  as_text=False)\n",
    "\n",
    "print('written graph to: %s' % graph_path)"
   ]
  },
  {
   "cell_type": "code",
   "execution_count": 13,
   "metadata": {
    "collapsed": true
   },
   "outputs": [],
   "source": [
    "sess.close()"
   ]
  }
 ],
 "metadata": {
  "kernelspec": {
   "display_name": "Python 2",
   "language": "python",
   "name": "python2"
  },
  "language_info": {
   "codemirror_mode": {
    "name": "ipython",
    "version": 2
   },
   "file_extension": ".py",
   "mimetype": "text/x-python",
   "name": "python",
   "nbconvert_exporter": "python",
   "pygments_lexer": "ipython2",
   "version": "2.7.14"
  }
 },
 "nbformat": 4,
 "nbformat_minor": 2
}
